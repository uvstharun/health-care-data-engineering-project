{
 "cells": [
  {
   "cell_type": "code",
   "execution_count": 0,
   "metadata": {
    "application/vnd.databricks.v1+cell": {
     "cellMetadata": {
      "byteLimit": 2048000,
      "rowLimit": 10000
     },
     "inputWidgets": {},
     "nuid": "f3ffd67d-2859-4739-b2e5-63ab1f7fc22e",
     "showTitle": false,
     "tableResultSettingsMap": {},
     "title": ""
    }
   },
   "outputs": [],
   "source": [
    "from datetime import date\n",
    "import requests\n",
    "from pyspark.sql import SparkSession\n",
    "\n",
    "# No need to import or initialize SparkSession in Databricks notebooks\n",
    "# from pyspark.sql import SparkSession\n",
    "\n",
    "# Use date.today() to get the current date in a format that Spark can handle\n",
    "current_date = date.today()\n",
    "\n",
    "# Initialize Spark session\n",
    "spark = SparkSession.builder.appName(\"NPI Data\").getOrCreate()\n",
    "\n",
    "# Base URL for the NPI Registry API\n",
    "base_url = \"https://npiregistry.cms.hhs.gov/api/\"\n",
    "\n",
    "# Defining the parameters for the initial API request to get a list of NPIs\n",
    "params = {\n",
    "    \"version\": \"2.1\",  # API version\n",
    "    \"state\": \"CA\",  # Example state, replace with desired state or other criteria\n",
    "    \"city\": \"Los Angeles\",  # Example city, replace with desired city\n",
    "    \"limit\": 20,  # Limit the number of results for demonstration purposes\n",
    "}\n",
    "\n",
    "# Make the initial API request to get a list of NPIs\n",
    "response = requests.get(base_url, params=params)\n",
    "\n",
    "# Check if the request was successful\n",
    "if response.status_code == 200:\n",
    "    npi_data = response.json()\n",
    "    npi_list = [result[\"number\"] for result in npi_data.get(\"results\", [])]\n",
    "\n",
    "    # Initialize a list to store detailed NPI information\n",
    "    detailed_results = []\n",
    "\n",
    "    # Loop through each NPI to get their details\n",
    "    for npi in npi_list:\n",
    "        detail_params = {\"version\": \"2.1\", \"number\": npi}\n",
    "        detail_response = requests.get(base_url, params=detail_params)\n",
    "\n",
    "        if detail_response.status_code == 200:\n",
    "            detail_data = detail_response.json()\n",
    "            if \"results\" in detail_data and detail_data[\"results\"]:\n",
    "                for result in detail_data[\"results\"]:\n",
    "                    npi_number = result.get(\"number\")\n",
    "                    basic_info = result.get(\"basic\", {})\n",
    "                    if result[\"enumeration_type\"] == \"NPI-1\":\n",
    "                        fname = basic_info.get(\"first_name\", \"\")\n",
    "                        lname = basic_info.get(\"last_name\", \"\")\n",
    "                    else:\n",
    "                        fname = basic_info.get(\"authorized_official_first_name\", \"\")\n",
    "                        lname = basic_info.get(\"authorized_official_last_name\", \"\")\n",
    "                    position = (\n",
    "                        basic_info.get(\"authorized_official_title_or_position\", \"\")\n",
    "                        if \"authorized_official_title_or_position\" in basic_info\n",
    "                        else \"\"\n",
    "                    )\n",
    "                    organisation = basic_info.get(\"organization_name\", \"\")\n",
    "                    last_updated = basic_info.get(\"last_updated\", \"\")\n",
    "                    detailed_results.append(\n",
    "                        {\n",
    "                            \"npi_id\": npi_number,\n",
    "                            \"first_name\": fname,\n",
    "                            \"last_name\": lname,\n",
    "                            \"position\": position,\n",
    "                            \"organisation_name\": organisation,\n",
    "                            \"last_updated\": last_updated,\n",
    "                            \"refreshed_at\": current_date,\n",
    "                        }\n",
    "                    )\n",
    "\n",
    "    # Create a DataFrame\n",
    "    if detailed_results:\n",
    "        print(detailed_results)\n",
    "        df = spark.createDataFrame(detailed_results)\n",
    "        display(df)\n",
    "        df.write.format(\"parquet\").mode(\"overwrite\").save(\"/mnt/bronze/npi_extract/\")\n",
    "        df.write.format(\"delta\").mode(\"overwrite\").saveAsTable(\"npi_extract\")\n",
    "\n",
    "    else:\n",
    "        print(\"No detailed results found.\")\n",
    "else:\n",
    "    print(f\"Failed to fetch data: {response.status_code} - {response.text}\")"
   ]
  },
  {
   "cell_type": "code",
   "execution_count": 0,
   "metadata": {
    "application/vnd.databricks.v1+cell": {
     "cellMetadata": {},
     "inputWidgets": {},
     "nuid": "458626a2-80ef-400a-b6de-a42cc98ac021",
     "showTitle": false,
     "tableResultSettingsMap": {},
     "title": ""
    }
   },
   "outputs": [],
   "source": []
  }
 ],
 "metadata": {
  "application/vnd.databricks.v1+notebook": {
   "dashboards": [],
   "environmentMetadata": {
    "base_environment": "",
    "client": "1"
   },
   "language": "python",
   "notebookMetadata": {
    "mostRecentlyExecutedCommandWithImplicitDF": {
     "commandId": 2263649506721872,
     "dataframes": [
      "_sqldf"
     ]
    },
    "pythonIndentUnit": 2
   },
   "notebookName": "NPI API extract",
   "widgets": {}
  },
  "language_info": {
   "name": "python"
  }
 },
 "nbformat": 4,
 "nbformat_minor": 0
}
